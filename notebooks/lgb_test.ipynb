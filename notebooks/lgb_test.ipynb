{
 "cells": [
  {
   "cell_type": "code",
   "execution_count": null,
   "id": "f884f78a",
   "metadata": {},
   "outputs": [],
   "source": [
    "import pandas as pd\n",
    "import numpy as np"
   ]
  },
  {
   "cell_type": "code",
   "execution_count": null,
   "id": "23fb3364",
   "metadata": {},
   "outputs": [],
   "source": [
    "df = pd.read_csv('C:/Users/luis2/OneDrive/Documentos/challenge-ML/dados/resultado_unificado_normalized_clean.csv', sep=';')\n",
    "df.info()"
   ]
  },
  {
   "cell_type": "code",
   "execution_count": null,
   "id": "249bfe28",
   "metadata": {},
   "outputs": [],
   "source": [
    "import warnings\n",
    "\n",
    "warnings.filterwarnings(\"ignore\")\n",
    "\n",
    "# Definições\n",
    "target = \"val_volumeutilcon\"\n",
    "cat_col = \"id_reservatorio\"\n",
    "\n",
    "train_list, test_list = [], []\n",
    "\n",
    "# split por reservatório\n",
    "for rid, group in df.groupby(cat_col):\n",
    "    group = group.sort_values([\"ano\", \"mes\", \"dia\"])  # garante ordem temporal\n",
    "    \n",
    "    split_idx = int(len(group) * 0.7)\n",
    "    train_part = group.iloc[:split_idx].copy()\n",
    "    test_part = group.iloc[split_idx:].copy()\n",
    "    \n",
    "    # Expanding mean até t-1 no treino\n",
    "    train_part[\"id_encoded\"] = (\n",
    "        train_part[target].expanding().mean().shift(1)\n",
    "    )\n",
    "    \n",
    "    # Preenche primeiros valores sem histórico com média global do treino\n",
    "    global_mean = train_part[target].mean()\n",
    "    train_part[\"id_encoded\"].fillna(global_mean, inplace=True)\n",
    "    \n",
    "    # Para o teste, calculamos encoding usando apenas histórico do treino\n",
    "    # Concatenamos treino + teste, aplicamos expanding, mas só usamos valores válidos\n",
    "    full_series = pd.concat([train_part, test_part])\n",
    "    full_series[\"id_encoded\"] = (\n",
    "        full_series[target].expanding().mean().shift(1)\n",
    "    )\n",
    "    \n",
    "    # Só aplica para o conjunto de teste\n",
    "    test_part[\"id_encoded\"] = full_series.loc[test_part.index, \"id_encoded\"]\n",
    "    test_part[\"id_encoded\"].fillna(global_mean, inplace=True)\n",
    "\n",
    "    train_list.append(train_part)\n",
    "    test_list.append(test_part)\n",
    "\n",
    "# Junta todos os reservatórios\n",
    "train_df = pd.concat(train_list)\n",
    "test_df = pd.concat(test_list)\n",
    "\n",
    "# Define features\n",
    "features = [\n",
    "    \"id_encoded\",\n",
    "    \"val_volmax\",\n",
    "    \"ear_reservatorio_percentual_lag1\",\n",
    "    \"ear_reservatorio_percentual_lag7\",\n",
    "    \"ear_reservatorio_percentual_roll7\",\n",
    "    \"dia\",\n",
    "    \"mes\",\n",
    "    \"ano\"\n",
    "]\n",
    "\n",
    "X_train = train_df[features]\n",
    "y_train = train_df[[target]]\n",
    "\n",
    "X_test = test_df[features]\n",
    "y_test = test_df[[target]]\n",
    "\n"
   ]
  },
  {
   "cell_type": "code",
   "execution_count": null,
   "id": "9f9816a6",
   "metadata": {},
   "outputs": [],
   "source": [
    "y_test.info()\n",
    "y_test.value_counts"
   ]
  },
  {
   "cell_type": "code",
   "execution_count": null,
   "id": "2faa4214",
   "metadata": {},
   "outputs": [],
   "source": [
    "import lightgbm as lgb\n",
    "clf = lgb.LGBMRegressor(\n",
    "    n_estimators=1000,\n",
    "    learning_rate=0.05,\n",
    "    colsample_bytree=0.8,\n",
    "    subsample=0.8,\n",
    "    random_state=42\n",
    ")\n",
    "clf.fit(X_train, y_train)"
   ]
  },
  {
   "cell_type": "code",
   "execution_count": null,
   "id": "5f2981f2",
   "metadata": {},
   "outputs": [],
   "source": [
    "lgb.plot_metric(clf)"
   ]
  },
  {
   "cell_type": "code",
   "execution_count": null,
   "id": "bb5d6f01",
   "metadata": {},
   "outputs": [],
   "source": [
    "y_pred = clf.predict(X_test)"
   ]
  },
  {
   "cell_type": "code",
   "execution_count": null,
   "id": "b13138d4",
   "metadata": {},
   "outputs": [],
   "source": [
    "print('Training set score: {:.7f}'.format(clf.score(X_train, y_train)))\n",
    "\n",
    "print('Test set score: {:.7f}'.format(clf.score(X_test, y_test)))"
   ]
  },
  {
   "cell_type": "code",
   "execution_count": null,
   "id": "0d9f196b",
   "metadata": {},
   "outputs": [],
   "source": [
    "import numpy as np\n",
    "from sklearn.metrics import mean_absolute_error, mean_squared_error, r2_score\n",
    "\n",
    "# Métricas principais\n",
    "mae = mean_absolute_error(y_test, y_pred)\n",
    "rmse = mean_squared_error(y_test, y_pred)\n",
    "r2 = r2_score(y_test, y_pred)\n",
    "\n",
    "# Corrigindo MAPE\n",
    "mape = np.mean(\n",
    "    np.abs((y_test.values.flatten() - y_pred) / np.where(y_test.values.flatten() == 0, 1, y_test.values.flatten()))\n",
    ") * 100\n",
    "\n",
    "# Alternativa mais robusta\n",
    "smape = 100 * np.mean(\n",
    "    2 * np.abs(y_pred - y_test.values.flatten()) / (np.abs(y_test.values.flatten()) + np.abs(y_pred))\n",
    ")\n",
    "\n",
    "print(f\"MAE:   {mae:.7f}\")\n",
    "print(f\"RMSE:  {rmse:.7f}\")\n",
    "print(f\"MAPE:  {mape:.4f}%\")\n",
    "print(f\"SMAPE: {smape:.4f}%\")\n",
    "print(f\"R²:    {r2:.7f}\")\n"
   ]
  },
  {
   "cell_type": "code",
   "execution_count": null,
   "id": "5b8a027b",
   "metadata": {},
   "outputs": [],
   "source": [
    "feature_importances = pd.DataFrame({\n",
    "    \"feature\": clf.feature_name_,\n",
    "    \"importance\": clf.feature_importances_\n",
    "}).sort_values(by=\"importance\", ascending=False)\n",
    "\n",
    "print(feature_importances.head(10))"
   ]
  },
  {
   "cell_type": "code",
   "execution_count": null,
   "id": "c1b52d5c",
   "metadata": {},
   "outputs": [],
   "source": [
    "import matplotlib.pyplot as plt\n",
    "\n",
    "plt.figure(figsize=(7,7))\n",
    "plt.scatter(y_test, y_pred, alpha=0.5, label=\"Previsões\")\n",
    "plt.plot([y_test.min(), y_test.max()],\n",
    "         [y_test.min(), y_test.max()],\n",
    "         'r--', lw=2, label=\"Ideal (y=x)\")\n",
    "\n",
    "plt.xlabel(\"Valores Reais (y_test)\")\n",
    "plt.ylabel(\"Valores Previstos (y_pred)\")\n",
    "plt.title(\"Dispersão: Real vs Previsto\")\n",
    "plt.legend()\n",
    "plt.grid(True)\n",
    "plt.show()\n"
   ]
  }
 ],
 "metadata": {
  "kernelspec": {
   "display_name": "Python 3",
   "language": "python",
   "name": "python3"
  },
  "language_info": {
   "codemirror_mode": {
    "name": "ipython",
    "version": 3
   },
   "file_extension": ".py",
   "mimetype": "text/x-python",
   "name": "python",
   "nbconvert_exporter": "python",
   "pygments_lexer": "ipython3",
   "version": "3.10.0"
  }
 },
 "nbformat": 4,
 "nbformat_minor": 5
}
